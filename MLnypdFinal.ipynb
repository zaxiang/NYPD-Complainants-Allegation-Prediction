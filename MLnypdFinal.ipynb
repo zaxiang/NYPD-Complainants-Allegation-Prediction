{
 "cells": [
  {
   "cell_type": "markdown",
   "metadata": {},
   "source": [
    "# NYPD Allegations\n",
    "* **See the main project notebook for instructions to be sure you satisfy the rubric!**\n",
    "* See Project 03 for information on the dataset.\n",
    "* A few example prediction questions to pursue are listed below. However, don't limit yourself to them!\n",
    "    * Predict the outcome of an allegation (might need to feature engineer your output column).\n",
    "    * Predict the complainant or officer ethnicity.\n",
    "    * Predict the amount of time between the month received vs month closed (difference of the two columns).\n",
    "    * Predict the rank of the officer.\n",
    "\n",
    "Be careful to justify what information you would know at the \"time of prediction\" and train your model using only those features."
   ]
  },
  {
   "cell_type": "markdown",
   "metadata": {},
   "source": [
    "# Summary of Findings\n",
    "\n",
    "\n",
    "### Introduction\n",
    "In this project we are trying to predict if a complainants allegation will be substaniated(officer was given punishment) or not. \n",
    "\n",
    "Given that our data set contains 66% unsubstantiated cases and 24% substantiated case our model would fit the fact that the values are mostly negative instead of our actual features to combat this we sampled the same amount of unsubstantiated(negative) data points as there are substantiated(positive) data points so that our data would contain equal proportions of each. Since we are working with the data set with equal amount of positive and negative values we use accuracy to measure how well our model fits the data. \n",
    "\n",
    "The idea for our project is influenced from our permutation test and exploratory data analysis that was done previously in project 3. In project 3 we assumed that females were more successful in their complaints than males but that wasn't the case in fact, it was quite the opposite. Now we can generalize what interesting findings we saw in project 3 and use it to predict success of a complaint given not only gender of complainants but police officer gender, police officer rank, or totally new features that we have engineered for this dataset.\n",
    "\n",
    "\n",
    "### Baseline Model\n",
    "We use two features in the baseline model: Complainant's age at time of incident and Complainant's gender. Age is quantitative so we just keep it as it is, and we one-hot encode gender, which is a nominal feature.\n",
    "\n",
    "In our Baseline model we get:\n",
    "\n",
    "Score train: .553\n",
    "\n",
    "Score test: .510\n",
    "\n",
    "The given test score for accuracy is slightly better than randomly guessing and in that sense it is not that great but the test and train scores are similar so we know that this model is not overfitting the data.\n",
    "\n",
    "\n",
    "### Final Model\n",
    "We added 8 more features to our final model: one numeric and the others are categorical. \n",
    "\n",
    "For numercial features, we added the Officer's age at time of incident because elder officers might be less likely to be substantiated, and we z scale both the officer's age and the complainant's age so that we don't skew data with larger or smaller values. \n",
    "\n",
    "For the categorical features, we added the complainant's ethnicity, officer's ethnicity, officer's gender, and month the complaint was received by CCRB. We think both gender and race of the officers and complainants are good predictor for our task because we already seen a dispositional allegations results in different gender from project3. We also added the month because the time that investigation started can also affect the result of allegations. For example, people might be less serious with cases received before a holiday.\n",
    "We also did a feature engineer to create two binary features on whether the genders of complainant and the officer are the same, and whether the Officer's rank has changed. We assumed it is less likely that the officer would be substantiated if officer and complainant have the same gender and it is also less likely that the officer would be substantiated if his or her rank never changed(If you are promoted then it is likely you won't have complaints). Lastly, we included a numeric features representing the length of the case usually it means the case is complicated if the duration is long, and the complexity level of the case might also be a good predictor for our task.\n",
    "\n",
    "For this project we used a Decision Tree Classifier because we are outputting a yes or no answer to the question: Will this person's complaint be substantiated? The parameters were chosen using a grid search K fold cross validation and we used the best parameters outputted which were max_depth=45,\n",
    "min_sample_split = 2, and min_sample_leaf = 3. With this model we get:\n",
    "\n",
    "Score train: 0.9268174787316319\n",
    "\n",
    "Score test: 0.6218097447795824\n",
    "\n",
    "### Fairness Evaluation\n",
    "Given the current racial climate we wanted to investigate if our model is fair to white vs non white police officers more specifically we want to find out if police officers are correctly classified to be substantiated in both demographic since we use a lot of features involving race our model could have easily computed success or not given the ethnic demographic background of our Officers.\n",
    "\n",
    "We decided to investigate this subset of our data and measure the fairness of our model using recall parity because we care more about mislabeling someone as substantiated when they shouldn't have been. This could lead to more dire consequences because that officer may be stripped of their career as opposed to letting a bad cop get away because they would eventually get caught again(assuming our justice system works as intended).\n",
    "\n",
    "Now for the permutation test of sigif = .05. We have a null and an alternative hypothesis. \n",
    "\n",
    "- Null Hypothesis: My model is fair; the recall for White vs Non-White Officers are roughly the same\n",
    "\n",
    "- Alternative Hypothesis: My model is unfair; the recall for White Officers is different than Non-White Officers.\n",
    "\n",
    "We get a p value = .987 which fails to reject null at the sigfig of .05. With a p-value this large it seems that White vs Non-White officers are positively labeled correctly roughly the same and our model is fair to given the ethnicity of the Officer!"
   ]
  },
  {
   "cell_type": "markdown",
   "metadata": {},
   "source": [
    "# Code"
   ]
  },
  {
   "cell_type": "code",
   "execution_count": 20,
   "metadata": {},
   "outputs": [],
   "source": [
    "import matplotlib.pyplot as plt\n",
    "import numpy as np\n",
    "import os\n",
    "import pandas as pd\n",
    "import seaborn as sns\n",
    "%matplotlib inline\n",
    "%config InlineBackend.figure_format = 'retina'  # Higher resolution figures\n",
    "\n",
    "from sklearn.model_selection import train_test_split\n",
    "from sklearn.preprocessing import StandardScaler\n",
    "from sklearn.pipeline import Pipeline\n",
    "from sklearn.compose import ColumnTransformer\n",
    "from sklearn.tree import DecisionTreeClassifier\n",
    "from sklearn.preprocessing import FunctionTransformer\n",
    "from sklearn.preprocessing import OneHotEncoder\n",
    "\n",
    "from sklearn.ensemble import RandomForestClassifier\n",
    "\n",
    "from sklearn import metrics\n",
    "from sklearn.metrics import confusion_matrix\n",
    "from sklearn.model_selection import GridSearchCV\n",
    "\n",
    "import warnings\n",
    "warnings.filterwarnings(\"ignore\")\n"
   ]
  },
  {
   "cell_type": "markdown",
   "metadata": {},
   "source": [
    "#### load the dataset"
   ]
  },
  {
   "cell_type": "code",
   "execution_count": 21,
   "metadata": {
    "scrolled": true
   },
   "outputs": [],
   "source": [
    "allegations = pd.read_csv('data/allegations.csv')\n",
    "allegations = allegations.dropna()\n"
   ]
  },
  {
   "cell_type": "markdown",
   "metadata": {},
   "source": [
    "#### cleaning"
   ]
  },
  {
   "cell_type": "code",
   "execution_count": 22,
   "metadata": {},
   "outputs": [],
   "source": [
    "#clean the prediction\n",
    "def clean_disposition(values):\n",
    "    if \"Substantiated\" in values:\n",
    "        return \"Substantiated\"\n",
    "    elif \"Unsubstantiated\" in values:\n",
    "        return \"Unsubstantiated\"\n",
    "    elif \"Exonerated\" in values:\n",
    "        return \"Exonerated\"\n",
    "    \n",
    "allegations[\"board_disposition\"] =  allegations[\"board_disposition\"].apply(clean_disposition)"
   ]
  },
  {
   "cell_type": "code",
   "execution_count": 23,
   "metadata": {},
   "outputs": [],
   "source": [
    "# make a dataframe with equal amounts of both neg and pos occurences\n",
    "allegations = allegations.replace({'Substantiated':1, 'Unsubstantiated':0, 'Exonerated':0})\n",
    "\n",
    "num_pos = (allegations['board_disposition']==1).sum()\n",
    "pos_allegations = allegations[allegations['board_disposition']==1]\n",
    "neg_allegations = allegations[allegations['board_disposition']==0]\n",
    "sampled_neg = neg_allegations.sample(n=num_pos,replace = False)\n",
    "allegations = pd.concat([pos_allegations,sampled_neg])"
   ]
  },
  {
   "cell_type": "code",
   "execution_count": 24,
   "metadata": {},
   "outputs": [
    {
     "data": {
      "text/html": [
       "<div>\n",
       "<style scoped>\n",
       "    .dataframe tbody tr th:only-of-type {\n",
       "        vertical-align: middle;\n",
       "    }\n",
       "\n",
       "    .dataframe tbody tr th {\n",
       "        vertical-align: top;\n",
       "    }\n",
       "\n",
       "    .dataframe thead th {\n",
       "        text-align: right;\n",
       "    }\n",
       "</style>\n",
       "<table border=\"1\" class=\"dataframe\">\n",
       "  <thead>\n",
       "    <tr style=\"text-align: right;\">\n",
       "      <th></th>\n",
       "      <th>unique_mos_id</th>\n",
       "      <th>first_name</th>\n",
       "      <th>last_name</th>\n",
       "      <th>command_now</th>\n",
       "      <th>shield_no</th>\n",
       "      <th>complaint_id</th>\n",
       "      <th>month_received</th>\n",
       "      <th>year_received</th>\n",
       "      <th>month_closed</th>\n",
       "      <th>year_closed</th>\n",
       "      <th>...</th>\n",
       "      <th>mos_age_incident</th>\n",
       "      <th>complainant_ethnicity</th>\n",
       "      <th>complainant_gender</th>\n",
       "      <th>complainant_age_incident</th>\n",
       "      <th>fado_type</th>\n",
       "      <th>allegation</th>\n",
       "      <th>precinct</th>\n",
       "      <th>contact_reason</th>\n",
       "      <th>outcome_description</th>\n",
       "      <th>board_disposition</th>\n",
       "    </tr>\n",
       "  </thead>\n",
       "  <tbody>\n",
       "    <tr>\n",
       "      <th>0</th>\n",
       "      <td>10004</td>\n",
       "      <td>Jonathan</td>\n",
       "      <td>Ruiz</td>\n",
       "      <td>078 PCT</td>\n",
       "      <td>8409</td>\n",
       "      <td>42835</td>\n",
       "      <td>7</td>\n",
       "      <td>2019</td>\n",
       "      <td>5</td>\n",
       "      <td>2020</td>\n",
       "      <td>...</td>\n",
       "      <td>32</td>\n",
       "      <td>Black</td>\n",
       "      <td>Female</td>\n",
       "      <td>38.0</td>\n",
       "      <td>Abuse of Authority</td>\n",
       "      <td>Failure to provide RTKA card</td>\n",
       "      <td>78.0</td>\n",
       "      <td>Report-domestic dispute</td>\n",
       "      <td>No arrest made or summons issued</td>\n",
       "      <td>1</td>\n",
       "    </tr>\n",
       "    <tr>\n",
       "      <th>1</th>\n",
       "      <td>10007</td>\n",
       "      <td>John</td>\n",
       "      <td>Sears</td>\n",
       "      <td>078 PCT</td>\n",
       "      <td>5952</td>\n",
       "      <td>24601</td>\n",
       "      <td>11</td>\n",
       "      <td>2011</td>\n",
       "      <td>8</td>\n",
       "      <td>2012</td>\n",
       "      <td>...</td>\n",
       "      <td>24</td>\n",
       "      <td>Black</td>\n",
       "      <td>Male</td>\n",
       "      <td>26.0</td>\n",
       "      <td>Discourtesy</td>\n",
       "      <td>Action</td>\n",
       "      <td>67.0</td>\n",
       "      <td>Moving violation</td>\n",
       "      <td>Moving violation summons issued</td>\n",
       "      <td>1</td>\n",
       "    </tr>\n",
       "    <tr>\n",
       "      <th>2</th>\n",
       "      <td>10007</td>\n",
       "      <td>John</td>\n",
       "      <td>Sears</td>\n",
       "      <td>078 PCT</td>\n",
       "      <td>5952</td>\n",
       "      <td>24601</td>\n",
       "      <td>11</td>\n",
       "      <td>2011</td>\n",
       "      <td>8</td>\n",
       "      <td>2012</td>\n",
       "      <td>...</td>\n",
       "      <td>24</td>\n",
       "      <td>Black</td>\n",
       "      <td>Male</td>\n",
       "      <td>26.0</td>\n",
       "      <td>Offensive Language</td>\n",
       "      <td>Race</td>\n",
       "      <td>67.0</td>\n",
       "      <td>Moving violation</td>\n",
       "      <td>Moving violation summons issued</td>\n",
       "      <td>1</td>\n",
       "    </tr>\n",
       "    <tr>\n",
       "      <th>3</th>\n",
       "      <td>10007</td>\n",
       "      <td>John</td>\n",
       "      <td>Sears</td>\n",
       "      <td>078 PCT</td>\n",
       "      <td>5952</td>\n",
       "      <td>26146</td>\n",
       "      <td>7</td>\n",
       "      <td>2012</td>\n",
       "      <td>9</td>\n",
       "      <td>2013</td>\n",
       "      <td>...</td>\n",
       "      <td>25</td>\n",
       "      <td>Black</td>\n",
       "      <td>Male</td>\n",
       "      <td>45.0</td>\n",
       "      <td>Abuse of Authority</td>\n",
       "      <td>Question</td>\n",
       "      <td>67.0</td>\n",
       "      <td>PD suspected C/V of violation/crime - street</td>\n",
       "      <td>No arrest made or summons issued</td>\n",
       "      <td>1</td>\n",
       "    </tr>\n",
       "    <tr>\n",
       "      <th>5</th>\n",
       "      <td>10012</td>\n",
       "      <td>Paula</td>\n",
       "      <td>Smith</td>\n",
       "      <td>078 PCT</td>\n",
       "      <td>4021</td>\n",
       "      <td>37256</td>\n",
       "      <td>5</td>\n",
       "      <td>2017</td>\n",
       "      <td>10</td>\n",
       "      <td>2017</td>\n",
       "      <td>...</td>\n",
       "      <td>50</td>\n",
       "      <td>White</td>\n",
       "      <td>Male</td>\n",
       "      <td>31.0</td>\n",
       "      <td>Abuse of Authority</td>\n",
       "      <td>Refusal to process civilian complaint</td>\n",
       "      <td>78.0</td>\n",
       "      <td>C/V telephoned PCT</td>\n",
       "      <td>No arrest made or summons issued</td>\n",
       "      <td>1</td>\n",
       "    </tr>\n",
       "  </tbody>\n",
       "</table>\n",
       "<p>5 rows × 27 columns</p>\n",
       "</div>"
      ],
      "text/plain": [
       "   unique_mos_id first_name last_name command_now  shield_no  complaint_id  \\\n",
       "0          10004   Jonathan      Ruiz     078 PCT       8409         42835   \n",
       "1          10007       John     Sears     078 PCT       5952         24601   \n",
       "2          10007       John     Sears     078 PCT       5952         24601   \n",
       "3          10007       John     Sears     078 PCT       5952         26146   \n",
       "5          10012      Paula     Smith     078 PCT       4021         37256   \n",
       "\n",
       "   month_received  year_received  month_closed  year_closed  ...  \\\n",
       "0               7           2019             5         2020  ...   \n",
       "1              11           2011             8         2012  ...   \n",
       "2              11           2011             8         2012  ...   \n",
       "3               7           2012             9         2013  ...   \n",
       "5               5           2017            10         2017  ...   \n",
       "\n",
       "  mos_age_incident complainant_ethnicity complainant_gender  \\\n",
       "0               32                 Black             Female   \n",
       "1               24                 Black               Male   \n",
       "2               24                 Black               Male   \n",
       "3               25                 Black               Male   \n",
       "5               50                 White               Male   \n",
       "\n",
       "  complainant_age_incident           fado_type  \\\n",
       "0                     38.0  Abuse of Authority   \n",
       "1                     26.0         Discourtesy   \n",
       "2                     26.0  Offensive Language   \n",
       "3                     45.0  Abuse of Authority   \n",
       "5                     31.0  Abuse of Authority   \n",
       "\n",
       "                              allegation precinct  \\\n",
       "0           Failure to provide RTKA card     78.0   \n",
       "1                                 Action     67.0   \n",
       "2                                   Race     67.0   \n",
       "3                               Question     67.0   \n",
       "5  Refusal to process civilian complaint     78.0   \n",
       "\n",
       "                                 contact_reason  \\\n",
       "0                       Report-domestic dispute   \n",
       "1                              Moving violation   \n",
       "2                              Moving violation   \n",
       "3  PD suspected C/V of violation/crime - street   \n",
       "5                            C/V telephoned PCT   \n",
       "\n",
       "                outcome_description board_disposition  \n",
       "0  No arrest made or summons issued                 1  \n",
       "1   Moving violation summons issued                 1  \n",
       "2   Moving violation summons issued                 1  \n",
       "3  No arrest made or summons issued                 1  \n",
       "5  No arrest made or summons issued                 1  \n",
       "\n",
       "[5 rows x 27 columns]"
      ]
     },
     "execution_count": 24,
     "metadata": {},
     "output_type": "execute_result"
    }
   ],
   "source": [
    "allegations.head()"
   ]
  },
  {
   "cell_type": "markdown",
   "metadata": {},
   "source": [
    "### Baseline Model"
   ]
  },
  {
   "cell_type": "markdown",
   "metadata": {},
   "source": [
    "build X and y dataset and split into train and test dataset"
   ]
  },
  {
   "cell_type": "code",
   "execution_count": 25,
   "metadata": {},
   "outputs": [],
   "source": [
    "X = allegations.drop(columns = ['board_disposition'])\n",
    "y = allegations['board_disposition']"
   ]
  },
  {
   "cell_type": "markdown",
   "metadata": {},
   "source": [
    "feature engineer and build the model pipeline"
   ]
  },
  {
   "cell_type": "code",
   "execution_count": 26,
   "metadata": {},
   "outputs": [],
   "source": [
    "X_train, X_test, y_train, y_test = train_test_split(X, y, test_size=0.25)\n",
    "\n",
    "# Numeric columns and associated transformers\n",
    "num_feat = ['complainant_age_incident']\n",
    "num_transformer = Pipeline(steps=[\n",
    "    ('as_it_is', FunctionTransformer(lambda x:x))   # as it is\n",
    "])\n",
    "\n",
    "# Categorical columns and associated transformers\n",
    "cat_feat = ['complainant_gender']\n",
    "cat_transformer = Pipeline(steps=[\n",
    "    ('onehot', OneHotEncoder())     # output becomes input to OneHot\n",
    "])\n",
    "\n",
    "# preprocessing pipeline (put them together)\n",
    "preproc = ColumnTransformer(\n",
    "    transformers=[\n",
    "        ('num', num_transformer, num_feat),\n",
    "        ('cat', cat_transformer, cat_feat)\n",
    "    ])\n",
    "\n",
    "pl = Pipeline(steps=[('preprocessor', preproc), ('classifier', DecisionTreeClassifier())])"
   ]
  },
  {
   "cell_type": "markdown",
   "metadata": {},
   "source": [
    "fit the train set to the model and get the performance"
   ]
  },
  {
   "cell_type": "code",
   "execution_count": 27,
   "metadata": {},
   "outputs": [
    {
     "name": "stdout",
     "output_type": "stream",
     "text": [
      "score train: 0.5510440835266821\n",
      "score test: 0.5084106728538283\n"
     ]
    }
   ],
   "source": [
    "pl.fit(X_train, y_train)\n",
    "\n",
    "print(\"score train: %s\" % pl.score(X_train, y_train))\n",
    "print(\"score test: %s\" % pl.score(X_test, y_test))"
   ]
  },
  {
   "cell_type": "code",
   "execution_count": 28,
   "metadata": {},
   "outputs": [
    {
     "name": "stdout",
     "output_type": "stream",
     "text": [
      "[[0.26334107 0.24158933]\n",
      " [0.25       0.24506961]]\n"
     ]
    }
   ],
   "source": [
    "preds = pl.predict(X_test)\n",
    "print(metrics.confusion_matrix(y_test, preds)/ len(preds))\n"
   ]
  },
  {
   "cell_type": "markdown",
   "metadata": {},
   "source": [
    "### Final Model"
   ]
  },
  {
   "cell_type": "markdown",
   "metadata": {},
   "source": [
    "build X and y dataset and split into train and test dataset"
   ]
  },
  {
   "cell_type": "code",
   "execution_count": 29,
   "metadata": {},
   "outputs": [],
   "source": [
    "X_train, X_test, y_train, y_test = train_test_split(X, y, test_size=0.25)"
   ]
  },
  {
   "cell_type": "markdown",
   "metadata": {},
   "source": [
    "feature engineer and build the model pipeline"
   ]
  },
  {
   "cell_type": "code",
   "execution_count": 92,
   "metadata": {},
   "outputs": [],
   "source": [
    "\n",
    "# Numeric columns and associated transformers\n",
    "num_feat = ['complainant_age_incident','mos_age_incident']\n",
    "num_transformer = Pipeline(steps=[\n",
    "    ('z_scale', StandardScaler())   # z_scale\n",
    "])\n",
    "\n",
    "\n",
    "# Categorical columns and associated transformers\n",
    "cat_feat = ['complainant_gender', 'complainant_ethnicity', \\\n",
    "             'mos_ethnicity', 'mos_gender', 'month_received']\n",
    "cat_transformer = Pipeline(steps=[\n",
    "    ('onehot', OneHotEncoder(handle_unknown=\"ignore\"))  #OneHot encoding\n",
    "])\n",
    "\n",
    "\n",
    "#checks if two columsn are the same \n",
    "def equality(df):\n",
    "    return (df[df.columns[0]]==df[df.columns[1]]).astype(int).to_frame()\n",
    "\n",
    "same_transformer = Pipeline(steps=[\n",
    "    ('equality_trasnformer',FunctionTransformer(equality))\n",
    "])\n",
    "\n",
    "#length of the case\n",
    "date_feat = ['year_received','year_closed']\n",
    "def date_diff(df):\n",
    "    return (df[df.columns[1]]-df[df.columns[0]]).to_frame()\n",
    "\n",
    "date_transformer =  Pipeline(steps=[\n",
    "    ('datediff', FunctionTransformer(date_diff)),('std',StandardScaler())  \n",
    "])\n",
    "\n",
    "\n",
    "# preprocessing pipeline (put them together)\n",
    "preproc = ColumnTransformer(\n",
    "    transformers=[\n",
    "        ('num', num_transformer, num_feat),\n",
    "        ('cat', cat_transformer, cat_feat),\n",
    "        ('same_gender',same_transformer,['mos_gender','complainant_gender']),\n",
    "        ('rank_change',same_transformer,['rank_abbrev_now','rank_abbrev_incident']),\n",
    "        ('datediff',date_transformer,date_feat)\n",
    "    ])\n",
    "\n",
    "pl = Pipeline(steps=[('preprocessor', preproc), ('Classifier', DecisionTreeClassifier(max_depth=45,min_samples_leaf= 1, min_samples_split=2))])"
   ]
  },
  {
   "cell_type": "markdown",
   "metadata": {},
   "source": [
    "fit the train set to the model and get the performance"
   ]
  },
  {
   "cell_type": "code",
   "execution_count": 93,
   "metadata": {},
   "outputs": [
    {
     "name": "stdout",
     "output_type": "stream",
     "text": [
      "score train: 0.9268174787316319\n",
      "score test: 0.6218097447795824\n"
     ]
    }
   ],
   "source": [
    "pl.fit(X_train, y_train)\n",
    "\n",
    "print(\"score train: %s\" % pl.score(X_train, y_train))\n",
    "print(\"score test: %s\" % pl.score(X_test, y_test))"
   ]
  },
  {
   "cell_type": "code",
   "execution_count": 58,
   "metadata": {},
   "outputs": [
    {
     "name": "stdout",
     "output_type": "stream",
     "text": [
      "[[0.31235499 0.1861949 ]\n",
      " [0.17720418 0.32424594]]\n"
     ]
    }
   ],
   "source": [
    "preds = pl.predict(X_test)\n",
    "print(metrics.confusion_matrix(y_test, preds)/ len(preds))\n"
   ]
  },
  {
   "cell_type": "markdown",
   "metadata": {},
   "source": [
    "#### Cross Validation "
   ]
  },
  {
   "cell_type": "markdown",
   "metadata": {},
   "source": [
    "we use GridSearchCV to get the best parameter max_depth equals to 35."
   ]
  },
  {
   "cell_type": "code",
   "execution_count": 88,
   "metadata": {},
   "outputs": [
    {
     "name": "stdout",
     "output_type": "stream",
     "text": [
      "score train: 0.9268174787316319\n",
      "score test: 0.6238399071925754\n"
     ]
    }
   ],
   "source": [
    "parameters = {\n",
    "    'max_depth': [20,25,30,35,40,45,50], \n",
    "    'min_samples_split':[2,3,5,7,None],\n",
    "    'min_samples_leaf':[1,2,3,5,7,None]\n",
    "}\n",
    "\n",
    "pl = Pipeline(steps=[('preprocessor', preproc), ('regressor', GridSearchCV(DecisionTreeClassifier(),parameters,cv = 5))])\n",
    "pl.fit(X_train, y_train)\n",
    "\n",
    "\n",
    "print(\"score train: %s\" % pl.score(X_train, y_train))\n",
    "print(\"score test: %s\" % pl.score(X_test, y_test))"
   ]
  },
  {
   "cell_type": "code",
   "execution_count": 89,
   "metadata": {},
   "outputs": [
    {
     "data": {
      "text/plain": [
       "{'max_depth': 45, 'min_samples_leaf': 1, 'min_samples_split': 2}"
      ]
     },
     "execution_count": 89,
     "metadata": {},
     "output_type": "execute_result"
    }
   ],
   "source": [
    "pl.named_steps['regressor'].best_params_"
   ]
  },
  {
   "cell_type": "markdown",
   "metadata": {},
   "source": [
    "### Fairness Evaluation"
   ]
  },
  {
   "cell_type": "markdown",
   "metadata": {},
   "source": [
    "Check if the model is fair for white vs non white complainants"
   ]
  },
  {
   "cell_type": "code",
   "execution_count": 36,
   "metadata": {},
   "outputs": [
    {
     "data": {
      "text/html": [
       "<div>\n",
       "<style scoped>\n",
       "    .dataframe tbody tr th:only-of-type {\n",
       "        vertical-align: middle;\n",
       "    }\n",
       "\n",
       "    .dataframe tbody tr th {\n",
       "        vertical-align: top;\n",
       "    }\n",
       "\n",
       "    .dataframe thead th {\n",
       "        text-align: right;\n",
       "    }\n",
       "</style>\n",
       "<table border=\"1\" class=\"dataframe\">\n",
       "  <thead>\n",
       "    <tr style=\"text-align: right;\">\n",
       "      <th></th>\n",
       "      <th>unique_mos_id</th>\n",
       "      <th>first_name</th>\n",
       "      <th>last_name</th>\n",
       "      <th>command_now</th>\n",
       "      <th>shield_no</th>\n",
       "      <th>complaint_id</th>\n",
       "      <th>month_received</th>\n",
       "      <th>year_received</th>\n",
       "      <th>month_closed</th>\n",
       "      <th>year_closed</th>\n",
       "      <th>...</th>\n",
       "      <th>complainant_gender</th>\n",
       "      <th>complainant_age_incident</th>\n",
       "      <th>fado_type</th>\n",
       "      <th>allegation</th>\n",
       "      <th>precinct</th>\n",
       "      <th>contact_reason</th>\n",
       "      <th>outcome_description</th>\n",
       "      <th>prediction</th>\n",
       "      <th>actual</th>\n",
       "      <th>is_white</th>\n",
       "    </tr>\n",
       "  </thead>\n",
       "  <tbody>\n",
       "    <tr>\n",
       "      <th>5798</th>\n",
       "      <td>17384</td>\n",
       "      <td>Ramon</td>\n",
       "      <td>Santos</td>\n",
       "      <td>CD OFF</td>\n",
       "      <td>29193</td>\n",
       "      <td>12118</td>\n",
       "      <td>9</td>\n",
       "      <td>2006</td>\n",
       "      <td>3</td>\n",
       "      <td>2007</td>\n",
       "      <td>...</td>\n",
       "      <td>Male</td>\n",
       "      <td>46.0</td>\n",
       "      <td>Abuse of Authority</td>\n",
       "      <td>Question and/or stop</td>\n",
       "      <td>42.0</td>\n",
       "      <td>PD suspected C/V of violation/crime - auto</td>\n",
       "      <td>No arrest made or summons issued</td>\n",
       "      <td>1</td>\n",
       "      <td>1</td>\n",
       "      <td>non-white</td>\n",
       "    </tr>\n",
       "    <tr>\n",
       "      <th>731</th>\n",
       "      <td>10532</td>\n",
       "      <td>David</td>\n",
       "      <td>Poggioli</td>\n",
       "      <td>083 DET</td>\n",
       "      <td>0</td>\n",
       "      <td>36901</td>\n",
       "      <td>3</td>\n",
       "      <td>2017</td>\n",
       "      <td>2</td>\n",
       "      <td>2018</td>\n",
       "      <td>...</td>\n",
       "      <td>Male</td>\n",
       "      <td>26.0</td>\n",
       "      <td>Abuse of Authority</td>\n",
       "      <td>Search (of person)</td>\n",
       "      <td>83.0</td>\n",
       "      <td>PD suspected C/V of violation/crime - street</td>\n",
       "      <td>Summons - other violation/crime</td>\n",
       "      <td>1</td>\n",
       "      <td>0</td>\n",
       "      <td>non-white</td>\n",
       "    </tr>\n",
       "    <tr>\n",
       "      <th>5859</th>\n",
       "      <td>17508</td>\n",
       "      <td>Kishon</td>\n",
       "      <td>Hickman</td>\n",
       "      <td>COMMDIV</td>\n",
       "      <td>0</td>\n",
       "      <td>14758</td>\n",
       "      <td>11</td>\n",
       "      <td>2007</td>\n",
       "      <td>4</td>\n",
       "      <td>2009</td>\n",
       "      <td>...</td>\n",
       "      <td>Male</td>\n",
       "      <td>18.0</td>\n",
       "      <td>Abuse of Authority</td>\n",
       "      <td>Search (of person)</td>\n",
       "      <td>45.0</td>\n",
       "      <td>PD suspected C/V of violation/crime - auto</td>\n",
       "      <td>Arrest - other violation/crime</td>\n",
       "      <td>0</td>\n",
       "      <td>0</td>\n",
       "      <td>white</td>\n",
       "    </tr>\n",
       "    <tr>\n",
       "      <th>3259</th>\n",
       "      <td>14283</td>\n",
       "      <td>Timothy</td>\n",
       "      <td>Rizzo</td>\n",
       "      <td>113 DET</td>\n",
       "      <td>3691</td>\n",
       "      <td>13293</td>\n",
       "      <td>4</td>\n",
       "      <td>2007</td>\n",
       "      <td>1</td>\n",
       "      <td>2008</td>\n",
       "      <td>...</td>\n",
       "      <td>Female</td>\n",
       "      <td>35.0</td>\n",
       "      <td>Force</td>\n",
       "      <td>Physical force</td>\n",
       "      <td>113.0</td>\n",
       "      <td>Traffic accident</td>\n",
       "      <td>Arrest - other violation/crime</td>\n",
       "      <td>1</td>\n",
       "      <td>0</td>\n",
       "      <td>non-white</td>\n",
       "    </tr>\n",
       "    <tr>\n",
       "      <th>27573</th>\n",
       "      <td>429</td>\n",
       "      <td>Luis</td>\n",
       "      <td>Gutierrez</td>\n",
       "      <td>006 PCT</td>\n",
       "      <td>22109</td>\n",
       "      <td>35318</td>\n",
       "      <td>6</td>\n",
       "      <td>2016</td>\n",
       "      <td>11</td>\n",
       "      <td>2016</td>\n",
       "      <td>...</td>\n",
       "      <td>Female</td>\n",
       "      <td>72.0</td>\n",
       "      <td>Abuse of Authority</td>\n",
       "      <td>Refusal to provide name/shield number</td>\n",
       "      <td>6.0</td>\n",
       "      <td>Report-domestic dispute</td>\n",
       "      <td>No arrest made or summons issued</td>\n",
       "      <td>0</td>\n",
       "      <td>0</td>\n",
       "      <td>white</td>\n",
       "    </tr>\n",
       "  </tbody>\n",
       "</table>\n",
       "<p>5 rows × 29 columns</p>\n",
       "</div>"
      ],
      "text/plain": [
       "       unique_mos_id first_name  last_name command_now  shield_no  \\\n",
       "5798           17384      Ramon     Santos      CD OFF      29193   \n",
       "731            10532      David   Poggioli     083 DET          0   \n",
       "5859           17508     Kishon    Hickman     COMMDIV          0   \n",
       "3259           14283    Timothy      Rizzo     113 DET       3691   \n",
       "27573            429       Luis  Gutierrez     006 PCT      22109   \n",
       "\n",
       "       complaint_id  month_received  year_received  month_closed  year_closed  \\\n",
       "5798          12118               9           2006             3         2007   \n",
       "731           36901               3           2017             2         2018   \n",
       "5859          14758              11           2007             4         2009   \n",
       "3259          13293               4           2007             1         2008   \n",
       "27573         35318               6           2016            11         2016   \n",
       "\n",
       "       ... complainant_gender complainant_age_incident           fado_type  \\\n",
       "5798   ...               Male                     46.0  Abuse of Authority   \n",
       "731    ...               Male                     26.0  Abuse of Authority   \n",
       "5859   ...               Male                     18.0  Abuse of Authority   \n",
       "3259   ...             Female                     35.0               Force   \n",
       "27573  ...             Female                     72.0  Abuse of Authority   \n",
       "\n",
       "                                  allegation precinct  \\\n",
       "5798                    Question and/or stop     42.0   \n",
       "731                       Search (of person)     83.0   \n",
       "5859                      Search (of person)     45.0   \n",
       "3259                          Physical force    113.0   \n",
       "27573  Refusal to provide name/shield number      6.0   \n",
       "\n",
       "                                     contact_reason  \\\n",
       "5798     PD suspected C/V of violation/crime - auto   \n",
       "731    PD suspected C/V of violation/crime - street   \n",
       "5859     PD suspected C/V of violation/crime - auto   \n",
       "3259                               Traffic accident   \n",
       "27573                       Report-domestic dispute   \n",
       "\n",
       "                    outcome_description  prediction actual   is_white  \n",
       "5798   No arrest made or summons issued           1      1  non-white  \n",
       "731     Summons - other violation/crime           1      0  non-white  \n",
       "5859     Arrest - other violation/crime           0      0      white  \n",
       "3259     Arrest - other violation/crime           1      0  non-white  \n",
       "27573  No arrest made or summons issued           0      0      white  \n",
       "\n",
       "[5 rows x 29 columns]"
      ]
     },
     "execution_count": 36,
     "metadata": {},
     "output_type": "execute_result"
    }
   ],
   "source": [
    "\n",
    "preds = pl.predict(X_test)\n",
    "results = X_test\n",
    "results['prediction'] = preds\n",
    "results['actual'] = y_test\n",
    "results['is_white'] = (results['complainant_ethnicity']=='White').replace({True:'white',False:'non-white'})\n",
    "metrics.confusion_matrix(y_test, preds) / len(preds)\n",
    "#display(results)\n",
    "results['prediction'].value_counts(normalize = True)\n",
    "results.head()\n"
   ]
  },
  {
   "cell_type": "code",
   "execution_count": 37,
   "metadata": {},
   "outputs": [
    {
     "data": {
      "text/html": [
       "<div>\n",
       "<style scoped>\n",
       "    .dataframe tbody tr th:only-of-type {\n",
       "        vertical-align: middle;\n",
       "    }\n",
       "\n",
       "    .dataframe tbody tr th {\n",
       "        vertical-align: top;\n",
       "    }\n",
       "\n",
       "    .dataframe thead th {\n",
       "        text-align: right;\n",
       "    }\n",
       "</style>\n",
       "<table border=\"1\" class=\"dataframe\">\n",
       "  <thead>\n",
       "    <tr style=\"text-align: right;\">\n",
       "      <th></th>\n",
       "      <th>prediction</th>\n",
       "    </tr>\n",
       "    <tr>\n",
       "      <th>is_white</th>\n",
       "      <th></th>\n",
       "    </tr>\n",
       "  </thead>\n",
       "  <tbody>\n",
       "    <tr>\n",
       "      <th>non-white</th>\n",
       "      <td>0.484456</td>\n",
       "    </tr>\n",
       "    <tr>\n",
       "      <th>white</th>\n",
       "      <td>0.519444</td>\n",
       "    </tr>\n",
       "  </tbody>\n",
       "</table>\n",
       "</div>"
      ],
      "text/plain": [
       "           prediction\n",
       "is_white             \n",
       "non-white    0.484456\n",
       "white        0.519444"
      ]
     },
     "execution_count": 37,
     "metadata": {},
     "output_type": "execute_result"
    }
   ],
   "source": [
    "# Demographic Parity \n",
    "# more white people seem to have success in their cases against cops\n",
    "results.groupby('is_white').prediction.mean().to_frame()"
   ]
  },
  {
   "cell_type": "code",
   "execution_count": 38,
   "metadata": {},
   "outputs": [
    {
     "data": {
      "text/html": [
       "<div>\n",
       "<style scoped>\n",
       "    .dataframe tbody tr th:only-of-type {\n",
       "        vertical-align: middle;\n",
       "    }\n",
       "\n",
       "    .dataframe tbody tr th {\n",
       "        vertical-align: top;\n",
       "    }\n",
       "\n",
       "    .dataframe thead th {\n",
       "        text-align: right;\n",
       "    }\n",
       "</style>\n",
       "<table border=\"1\" class=\"dataframe\">\n",
       "  <thead>\n",
       "    <tr style=\"text-align: right;\">\n",
       "      <th></th>\n",
       "      <th>recall</th>\n",
       "    </tr>\n",
       "    <tr>\n",
       "      <th>is_white</th>\n",
       "      <th></th>\n",
       "    </tr>\n",
       "  </thead>\n",
       "  <tbody>\n",
       "    <tr>\n",
       "      <th>non-white</th>\n",
       "      <td>0.609549</td>\n",
       "    </tr>\n",
       "    <tr>\n",
       "      <th>white</th>\n",
       "      <td>0.610000</td>\n",
       "    </tr>\n",
       "  </tbody>\n",
       "</table>\n",
       "</div>"
      ],
      "text/plain": [
       "             recall\n",
       "is_white           \n",
       "non-white  0.609549\n",
       "white      0.610000"
      ]
     },
     "execution_count": 38,
     "metadata": {},
     "output_type": "execute_result"
    }
   ],
   "source": [
    "#Recall tells us of those allegations that were actually substantiated, how many were labeled correctley?\n",
    "(\n",
    "    results\n",
    "    .groupby('is_white')\n",
    "    .apply(lambda x: metrics.recall_score(x.actual, x.prediction))\n",
    "    .rename('recall')\n",
    "    .to_frame()\n",
    ")"
   ]
  },
  {
   "cell_type": "code",
   "execution_count": 39,
   "metadata": {},
   "outputs": [
    {
     "name": "stdout",
     "output_type": "stream",
     "text": [
      "0.987\n"
     ]
    },
    {
     "data": {
      "text/plain": [
       "<matplotlib.collections.PathCollection at 0x15d45404fa0>"
      ]
     },
     "execution_count": 39,
     "metadata": {},
     "output_type": "execute_result"
    },
    {
     "data": {
      "image/png": "[encoded data removed]",
      "text/plain": [
       "<Figure size 432x288 with 1 Axes>"
      ]
     },
     "metadata": {
      "image/png": {
       "height": 263,
       "width": 452
      },
      "needs_background": "light"
     },
     "output_type": "display_data"
    }
   ],
   "source": [
    "#Is this difference significant here, we will test using permutation!\n",
    "obs = abs(results.groupby('is_white').apply(lambda x: metrics.recall_score(x.actual, x.prediction)).diff().iloc[-1])\n",
    "\n",
    "metrs = []\n",
    "for _ in range(1000):\n",
    "    s = (\n",
    "        results[['is_white', 'prediction', 'actual']]\n",
    "        .assign(is_white=results.is_white.sample(frac=1.0, replace=False).reset_index(drop=True))\n",
    "        .groupby('is_white')\n",
    "        .apply(lambda x: metrics.recall_score(x.actual, x.prediction))\n",
    "        .diff()\n",
    "        .iloc[-1]\n",
    "    )\n",
    "    metrs.append(abs(s))\n",
    "print(pd.Series(metrs >= obs).mean())\n",
    "pd.Series(metrs).plot(kind='hist', title='Permutation Test for substantiation across white/non-white complainants')\n",
    "plt.scatter(obs, 0.1, c='r')"
   ]
  },
  {
   "cell_type": "code",
   "execution_count": null,
   "metadata": {},
   "outputs": [],
   "source": []
  }
 ],
 "metadata": {
  "kernelspec": {
   "display_name": "Python 3",
   "language": "python",
   "name": "python3"
  },
  "language_info": {
   "codemirror_mode": {
    "name": "ipython",
    "version": 3
   },
   "file_extension": ".py",
   "mimetype": "text/x-python",
   "name": "python",
   "nbconvert_exporter": "python",
   "pygments_lexer": "ipython3",
   "version": "3.8.5"
  }
 },
 "nbformat": 4,
 "nbformat_minor": 2
}
